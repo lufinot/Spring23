{
 "cells": [
  {
   "cell_type": "code",
   "execution_count": 35,
   "metadata": {},
   "outputs": [],
   "source": [
    "import pandas as pd\n",
    "import numpy as np\n",
    "import scipy as sp"
   ]
  },
  {
   "cell_type": "code",
   "execution_count": 36,
   "metadata": {},
   "outputs": [],
   "source": [
    "df = pd.read_csv(\"../data/fluTrends.csv\")\n",
    "X = df.values\n",
    "names = df.columns.values"
   ]
  },
  {
   "cell_type": "code",
   "execution_count": 44,
   "metadata": {},
   "outputs": [
    {
     "data": {
      "text/plain": [
       "DescribeResult(nobs=520, minmax=(0.352, 4.862), mean=1.324625, variance=0.534456512283237, skewness=0.9390464857206353, kurtosis=0.8999197746655168)"
      ]
     },
     "execution_count": 44,
     "metadata": {},
     "output_type": "execute_result"
    }
   ],
   "source": [
    "# Q1\n",
    "sp.stats.describe(df, axis = None)\n"
   ]
  },
  {
   "cell_type": "code",
   "execution_count": 51,
   "metadata": {},
   "outputs": [
    {
     "name": "stderr",
     "output_type": "stream",
     "text": [
      "/var/folders/fy/1nmbptg97yqfwbr_y2kq5zbr0000gn/T/ipykernel_90611/632852708.py:2: FutureWarning: Unlike other reduction functions (e.g. `skew`, `kurtosis`), the default behavior of `mode` typically preserves the axis it acts along. In SciPy 1.11.0, this behavior will change: the default value of `keepdims` will become False, the `axis` over which the statistic is taken will be eliminated, and the value None will no longer be accepted. Set `keepdims` to True or False to avoid this warning.\n",
      "  sp.stats.mode(df, axis = None)\n"
     ]
    },
    {
     "data": {
      "text/plain": [
       "ModeResult(mode=array([0.77]), count=array([4]))"
      ]
     },
     "execution_count": 51,
     "metadata": {},
     "output_type": "execute_result"
    }
   ],
   "source": [
    "#Q1 cont.\n",
    "sp.stats.mode(df, axis = None)"
   ]
  },
  {
   "cell_type": "code",
   "execution_count": 52,
   "metadata": {},
   "outputs": [
    {
     "data": {
      "text/plain": [
       "array([0.46495, 0.718  , 1.159  , 1.81325, 2.62405])"
      ]
     },
     "execution_count": 52,
     "metadata": {},
     "output_type": "execute_result"
    }
   ],
   "source": [
    "#Q2\n",
    "np.quantile(df, np.r_[0.05,0.25,0.50,0.75,0.95])"
   ]
  },
  {
   "cell_type": "code",
   "execution_count": 53,
   "metadata": {},
   "outputs": [
    {
     "data": {
      "text/html": [
       "<div>\n",
       "<style scoped>\n",
       "    .dataframe tbody tr th:only-of-type {\n",
       "        vertical-align: middle;\n",
       "    }\n",
       "\n",
       "    .dataframe tbody tr th {\n",
       "        vertical-align: top;\n",
       "    }\n",
       "\n",
       "    .dataframe thead th {\n",
       "        text-align: right;\n",
       "    }\n",
       "</style>\n",
       "<table border=\"1\" class=\"dataframe\">\n",
       "  <thead>\n",
       "    <tr style=\"text-align: right;\">\n",
       "      <th></th>\n",
       "      <th>NE</th>\n",
       "      <th>MidAtl</th>\n",
       "      <th>ENCentral</th>\n",
       "      <th>WNCentral</th>\n",
       "      <th>SAt1</th>\n",
       "      <th>ESCentral</th>\n",
       "      <th>WSCentral</th>\n",
       "      <th>Mtn</th>\n",
       "      <th>Pac</th>\n",
       "      <th>WtdILI</th>\n",
       "    </tr>\n",
       "  </thead>\n",
       "  <tbody>\n",
       "    <tr>\n",
       "      <th>count</th>\n",
       "      <td>52.000000</td>\n",
       "      <td>52.000000</td>\n",
       "      <td>52.000000</td>\n",
       "      <td>52.000000</td>\n",
       "      <td>52.000000</td>\n",
       "      <td>52.000000</td>\n",
       "      <td>52.000000</td>\n",
       "      <td>52.000000</td>\n",
       "      <td>52.000000</td>\n",
       "      <td>52.000000</td>\n",
       "    </tr>\n",
       "    <tr>\n",
       "      <th>mean</th>\n",
       "      <td>1.223346</td>\n",
       "      <td>1.233538</td>\n",
       "      <td>1.275269</td>\n",
       "      <td>1.460212</td>\n",
       "      <td>1.298827</td>\n",
       "      <td>1.562519</td>\n",
       "      <td>1.292346</td>\n",
       "      <td>1.270019</td>\n",
       "      <td>1.063212</td>\n",
       "      <td>1.566962</td>\n",
       "    </tr>\n",
       "    <tr>\n",
       "      <th>std</th>\n",
       "      <td>0.600227</td>\n",
       "      <td>0.567629</td>\n",
       "      <td>0.604401</td>\n",
       "      <td>0.814372</td>\n",
       "      <td>0.651459</td>\n",
       "      <td>0.828007</td>\n",
       "      <td>0.719825</td>\n",
       "      <td>0.893757</td>\n",
       "      <td>0.567485</td>\n",
       "      <td>0.864139</td>\n",
       "    </tr>\n",
       "    <tr>\n",
       "      <th>min</th>\n",
       "      <td>0.428000</td>\n",
       "      <td>0.483000</td>\n",
       "      <td>0.452000</td>\n",
       "      <td>0.464000</td>\n",
       "      <td>0.468000</td>\n",
       "      <td>0.554000</td>\n",
       "      <td>0.456000</td>\n",
       "      <td>0.352000</td>\n",
       "      <td>0.377000</td>\n",
       "      <td>0.606000</td>\n",
       "    </tr>\n",
       "    <tr>\n",
       "      <th>25%</th>\n",
       "      <td>0.728250</td>\n",
       "      <td>0.714750</td>\n",
       "      <td>0.711250</td>\n",
       "      <td>0.701750</td>\n",
       "      <td>0.737750</td>\n",
       "      <td>0.922250</td>\n",
       "      <td>0.708000</td>\n",
       "      <td>0.624250</td>\n",
       "      <td>0.556000</td>\n",
       "      <td>0.795250</td>\n",
       "    </tr>\n",
       "    <tr>\n",
       "      <th>50%</th>\n",
       "      <td>1.129500</td>\n",
       "      <td>1.116000</td>\n",
       "      <td>1.265000</td>\n",
       "      <td>1.277500</td>\n",
       "      <td>1.102500</td>\n",
       "      <td>1.416500</td>\n",
       "      <td>1.107500</td>\n",
       "      <td>0.978500</td>\n",
       "      <td>0.957000</td>\n",
       "      <td>1.303500</td>\n",
       "    </tr>\n",
       "    <tr>\n",
       "      <th>75%</th>\n",
       "      <td>1.663000</td>\n",
       "      <td>1.710750</td>\n",
       "      <td>1.656250</td>\n",
       "      <td>1.993000</td>\n",
       "      <td>1.756500</td>\n",
       "      <td>2.084000</td>\n",
       "      <td>1.757750</td>\n",
       "      <td>1.695750</td>\n",
       "      <td>1.458000</td>\n",
       "      <td>2.343000</td>\n",
       "    </tr>\n",
       "    <tr>\n",
       "      <th>max</th>\n",
       "      <td>2.310000</td>\n",
       "      <td>2.205000</td>\n",
       "      <td>2.515000</td>\n",
       "      <td>3.115000</td>\n",
       "      <td>2.714000</td>\n",
       "      <td>3.859000</td>\n",
       "      <td>3.219000</td>\n",
       "      <td>4.862000</td>\n",
       "      <td>2.660000</td>\n",
       "      <td>3.260000</td>\n",
       "    </tr>\n",
       "  </tbody>\n",
       "</table>\n",
       "</div>"
      ],
      "text/plain": [
       "              NE     MidAtl  ENCentral  WNCentral       SAt1  ESCentral  \\\n",
       "count  52.000000  52.000000  52.000000  52.000000  52.000000  52.000000   \n",
       "mean    1.223346   1.233538   1.275269   1.460212   1.298827   1.562519   \n",
       "std     0.600227   0.567629   0.604401   0.814372   0.651459   0.828007   \n",
       "min     0.428000   0.483000   0.452000   0.464000   0.468000   0.554000   \n",
       "25%     0.728250   0.714750   0.711250   0.701750   0.737750   0.922250   \n",
       "50%     1.129500   1.116000   1.265000   1.277500   1.102500   1.416500   \n",
       "75%     1.663000   1.710750   1.656250   1.993000   1.756500   2.084000   \n",
       "max     2.310000   2.205000   2.515000   3.115000   2.714000   3.859000   \n",
       "\n",
       "       WSCentral        Mtn        Pac     WtdILI  \n",
       "count  52.000000  52.000000  52.000000  52.000000  \n",
       "mean    1.292346   1.270019   1.063212   1.566962  \n",
       "std     0.719825   0.893757   0.567485   0.864139  \n",
       "min     0.456000   0.352000   0.377000   0.606000  \n",
       "25%     0.708000   0.624250   0.556000   0.795250  \n",
       "50%     1.107500   0.978500   0.957000   1.303500  \n",
       "75%     1.757750   1.695750   1.458000   2.343000  \n",
       "max     3.219000   4.862000   2.660000   3.260000  "
      ]
     },
     "execution_count": 53,
     "metadata": {},
     "output_type": "execute_result"
    }
   ],
   "source": [
    "#Q3\n",
    "df.describe()"
   ]
  },
  {
   "cell_type": "code",
   "execution_count": null,
   "metadata": {},
   "outputs": [],
   "source": []
  }
 ],
 "metadata": {
  "kernelspec": {
   "display_name": "mlEnv",
   "language": "python",
   "name": "python3"
  },
  "language_info": {
   "codemirror_mode": {
    "name": "ipython",
    "version": 3
   },
   "file_extension": ".py",
   "mimetype": "text/x-python",
   "name": "python",
   "nbconvert_exporter": "python",
   "pygments_lexer": "ipython3",
   "version": "3.10.9"
  },
  "orig_nbformat": 4,
  "vscode": {
   "interpreter": {
    "hash": "49558b05e3bce0c94675499662408de6177622cd2c7a425297669890c87b58b5"
   }
  }
 },
 "nbformat": 4,
 "nbformat_minor": 2
}
